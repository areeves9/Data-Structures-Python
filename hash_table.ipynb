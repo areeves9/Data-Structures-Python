{
 "cells": [
  {
   "cell_type": "code",
   "execution_count": null,
   "metadata": {},
   "outputs": [],
   "source": [
    "class HashTable(object):\n",
    "    def __init__(self):\n",
    "        self.table = [None]*10000\n",
    "        \n",
    "    def store(self, string):\n",
    "        # get hash value from string\n",
    "        hv = self.calculate_hash_value(string)\n",
    "        # check if hash value not equal to '-1'\n",
    "        if hv != -1:\n",
    "            # check if value at table[hv] != None\n",
    "            if self.table[hv] != None:\n",
    "                # append string to value at table[hv]\n",
    "                self.table[hv].append(string)\n",
    "            else:\n",
    "                # set value at table[hv] to [string]\n",
    "                self.table[hv] = [string]\n",
    "                \n",
    "    def lookup(self, string):\n",
    "        # get hash value from string\n",
    "        hv = self.calculate_hash_value(string)\n",
    "        # check if hash value not equal to '-1'\n",
    "        if hv != -1:\n",
    "            # check if value at table[hv] not equal to None\n",
    "            if self.table[hv] != None:\n",
    "                # check if string in value at table[hv]\n",
    "                if string in self.table[hv]:\n",
    "                    return hv\n",
    "        return -1\n",
    "    \n",
    "    def calculate_hash_value(self, string):\n",
    "        value = ord(string[0])*100 + ord(string[1])\n",
    "        return value"
   ]
  }
 ],
 "metadata": {
  "kernelspec": {
   "display_name": "Python 3",
   "language": "python",
   "name": "python3"
  },
  "language_info": {
   "codemirror_mode": {
    "name": "ipython",
    "version": 3
   },
   "file_extension": ".py",
   "mimetype": "text/x-python",
   "name": "python",
   "nbconvert_exporter": "python",
   "pygments_lexer": "ipython3",
   "version": "3.8.2"
  }
 },
 "nbformat": 4,
 "nbformat_minor": 2
}
