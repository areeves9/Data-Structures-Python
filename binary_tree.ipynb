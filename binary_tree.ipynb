{
 "cells": [
  {
   "cell_type": "code",
   "execution_count": 5,
   "metadata": {},
   "outputs": [
    {
     "data": {
      "text/plain": [
       "<__main__.BinaryTree at 0x7f9c99badf70>"
      ]
     },
     "execution_count": 5,
     "metadata": {},
     "output_type": "execute_result"
    }
   ],
   "source": [
    "class Node(object):\n",
    "    def __init__(self, value):\n",
    "        self.value = value\n",
    "        self.left = None\n",
    "        self.right = None\n",
    "        \n",
    "class BinaryTree(object):\n",
    "    def __init__(self, root):\n",
    "        self.root = Node(root)\n",
    "        \n",
    "    def search(self, find_val):\n",
    "        return self.preorder_search(tree.root, find_val)\n",
    "\n",
    "# class BinaryTree(object):\n",
    "#     def __init__(self, root):\n",
    "#         self.root = Node(root)\n",
    "\n",
    "#     def search(self, find_val):\n",
    "#         return self.preorder_search(tree.root, find_val)\n",
    "\n",
    "#     def print_tree(self):\n",
    "#         return self.preorder_print(tree.root, \"\")[:-1]\n",
    "\n",
    "#     def preorder_search(self, start, find_val):\n",
    "#         if start:\n",
    "#             if start.value == find_val:\n",
    "#                 return True\n",
    "#             else:\n",
    "#                 return self.preorder_search(start.left, find_val) or self.preorder_search(start.right, find_val)\n",
    "#         return False\n",
    "\n",
    "#     def preorder_print(self, start, traversal):\n",
    "#         if start:\n",
    "#             traversal += (str(start.value) + \"-\")\n",
    "#             traversal = self.preorder_print(start.left, traversal)\n",
    "#             traversal = self.preorder_print(start.right, traversal)\n",
    "#         return traversal\n",
    "    \n",
    "n1 = Node(value=1)\n",
    "bt = BinaryTree(n1)\n",
    "b2 = Node(value=2)"
   ]
  },
  {
   "cell_type": "code",
   "execution_count": null,
   "metadata": {},
   "outputs": [],
   "source": []
  }
 ],
 "metadata": {
  "kernelspec": {
   "display_name": "Python 3",
   "language": "python",
   "name": "python3"
  },
  "language_info": {
   "codemirror_mode": {
    "name": "ipython",
    "version": 3
   },
   "file_extension": ".py",
   "mimetype": "text/x-python",
   "name": "python",
   "nbconvert_exporter": "python",
   "pygments_lexer": "ipython3",
   "version": "3.8.2"
  }
 },
 "nbformat": 4,
 "nbformat_minor": 2
}
