{
 "cells": [
  {
   "cell_type": "code",
   "execution_count": 3,
   "metadata": {},
   "outputs": [],
   "source": [
    "def quicksort(arr):\n",
    "    elements = len(arr)\n",
    "    if elements < 2:\n",
    "        return arr\n",
    "    current_position = 0\n",
    "    \n",
    "    for i in range(1, elements):\n",
    "        if arr[i] <= arr[0]:\n",
    "            current_position += 1\n",
    "            temp = arr[i]\n",
    "            arr[i] = arr[current_position]\n",
    "            arr[current_position] = temp\n",
    "            \n",
    "    temp = arr[0]\n",
    "    arr[0] = arr[current_position]\n",
    "    arr[current_position] = temp\n",
    "    \n",
    "    left = quicksort(arr[0:current_position])\n",
    "    right = quicksort(arr[current_position+1:elements])\n",
    "    \n",
    "    arr = left + [arr[current_position]] + right\n",
    "    \n",
    "    return arr"
   ]
  },
  {
   "cell_type": "code",
   "execution_count": null,
   "metadata": {},
   "outputs": [],
   "source": []
  }
 ],
 "metadata": {
  "kernelspec": {
   "display_name": "Python 3",
   "language": "python",
   "name": "python3"
  },
  "language_info": {
   "codemirror_mode": {
    "name": "ipython",
    "version": 3
   },
   "file_extension": ".py",
   "mimetype": "text/x-python",
   "name": "python",
   "nbconvert_exporter": "python",
   "pygments_lexer": "ipython3",
   "version": "3.8.2"
  }
 },
 "nbformat": 4,
 "nbformat_minor": 2
}
