{
 "cells": [
  {
   "cell_type": "code",
   "execution_count": 5,
   "metadata": {},
   "outputs": [
    {
     "data": {
      "text/plain": [
       "-1"
      ]
     },
     "execution_count": 5,
     "metadata": {},
     "output_type": "execute_result"
    }
   ],
   "source": [
    "def binarySearch(listData, value):\n",
    "    \"\"\"\n",
    "    Time complexity: O(log(n))\n",
    "    \n",
    "    The size of the array, represented as an\n",
    "    exponent, will be one less than the number of\n",
    "    iterations.\n",
    "    \n",
    "    For example, an array of length 8 (2^3), will require\n",
    "    4 iterations. In logarithimic form, the exponent can\n",
    "    be shown as: log2(8) = 3.\n",
    "    \n",
    "    The overall number of iterations will increase\n",
    "    as the length of the array increases. So as the\n",
    "    exponent increases, the iterations increase.\n",
    "    \n",
    "    log(n) + 1\n",
    "    \n",
    "    \"\"\"\n",
    "    low = 0\n",
    "    high = len(listData) - 1\n",
    "    while (low <= high):\n",
    "        mid = int((high + low) / 2)\n",
    "        if (listData[mid] == value):\n",
    "            return mid\n",
    "        elif (listData[mid] < value):\n",
    "            low = mid + 1\n",
    "        else:\n",
    "            high = mid - 1\n",
    "    return -1\n",
    "\n",
    "\n",
    "l1 = [1000, 101, 2, 3, 99, 8845, 6, 10]\n",
    "binarySearch(l1, 10000000)"
   ]
  },
  {
   "cell_type": "code",
   "execution_count": null,
   "metadata": {},
   "outputs": [],
   "source": []
  }
 ],
 "metadata": {
  "kernelspec": {
   "display_name": "Python 3",
   "language": "python",
   "name": "python3"
  },
  "language_info": {
   "codemirror_mode": {
    "name": "ipython",
    "version": 3
   },
   "file_extension": ".py",
   "mimetype": "text/x-python",
   "name": "python",
   "nbconvert_exporter": "python",
   "pygments_lexer": "ipython3",
   "version": "3.8.2"
  }
 },
 "nbformat": 4,
 "nbformat_minor": 2
}
